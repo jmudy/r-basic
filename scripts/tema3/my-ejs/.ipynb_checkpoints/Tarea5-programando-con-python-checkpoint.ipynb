{
 "cells": [
  {
   "cell_type": "markdown",
   "metadata": {},
   "source": [
    "# Tarea 5"
   ]
  },
  {
   "cell_type": "markdown",
   "metadata": {},
   "source": [
    "## Ejercicio 1\n",
    "Crea una función que reciba los tres coeficientes a, b y c para resolver una ecuación de segundo grado. Muestra la solución por pantalla y ayúdate de la librería Math para acceder a la función raíz cuadrada."
   ]
  },
  {
   "cell_type": "markdown",
   "metadata": {},
   "source": [
    "<img src=\"2grado.jpg\" width=\"300\">"
   ]
  },
  {
   "cell_type": "code",
   "execution_count": null,
   "metadata": {},
   "outputs": [],
   "source": [
    "import math"
   ]
  },
  {
   "cell_type": "code",
   "execution_count": null,
   "metadata": {},
   "outputs": [],
   "source": [
    "a = int(input(\"Introduzca el primer coeficiente: \"))\n",
    "b = int(input(\"Introduzca el segundo coefiente: \"))\n",
    "c = int(input(\"Introduzca el tercer coeficiente: \"))\n",
    "\n",
    "if (b**2-4*a*c) < 0:\n",
    "    print(\"\\nEsta ecuación tiene resultados con números complejos\")\n",
    "    \n",
    "else:\n",
    "    x1 = (-b+math.sqrt(b**2-4*a*c))/(2*a)\n",
    "    x2 = (-b-math.sqrt(b**2-4*a*c))/(2*a)\n",
    "    \n",
    "    print(\"\\nLa primera solución es: {}\".format(round(x1,4)))\n",
    "    print(\"\\nLa solución solución es: {}\".format(round(x2,4)))\n",
    "    "
   ]
  },
  {
   "cell_type": "markdown",
   "metadata": {},
   "source": [
    "## Ejercicio 2\n",
    "Crea una función que lea una frase de teclado y nos diga si es o no un palíndromo (frase que se lee igual de izquierda a derecha o al revés como por ejemplo La ruta nos aportó otro paso natural.)"
   ]
  },
  {
   "cell_type": "code",
   "execution_count": null,
   "metadata": {},
   "outputs": [],
   "source": [
    "def palindromo():\n",
    "\n",
    "    frase = input(\"Introduce una frase: \")\n",
    "    print(\"\\nLa frase inversa que ha introducido es: {}\\n\".format(frase[::-1]))\n",
    "\n",
    "    if (frase) == (frase)[::-1]:  # Compara la frase con su inversa\n",
    "        print(\"La frase que ha introducido SÍ es palíndroma\")\n",
    "    else:\n",
    "        print(\"La frase que ha introducido NO es palíndroma\")\n",
    "        \n",
    "palindromo()"
   ]
  },
  {
   "cell_type": "code",
   "execution_count": null,
   "metadata": {},
   "outputs": [],
   "source": [
    "frase = input(\"Introduce una frase: \")\n",
    "str(frase) == str(frase)[::-1]"
   ]
  },
  {
   "cell_type": "markdown",
   "metadata": {},
   "source": [
    "## Ejercicio 3\n",
    "Crea un diccionario que tenga por claves los números del 1 al 10 y como valores sus raíces cuadradas"
   ]
  },
  {
   "cell_type": "code",
   "execution_count": null,
   "metadata": {},
   "outputs": [],
   "source": [
    "import math"
   ]
  },
  {
   "cell_type": "code",
   "execution_count": null,
   "metadata": {},
   "outputs": [],
   "source": [
    "dict3 = {\n",
    "    1:math.sqrt(1),\n",
    "    2:math.sqrt(2),\n",
    "    3:math.sqrt(3),\n",
    "    4:math.sqrt(4),\n",
    "    5:math.sqrt(5),\n",
    "    6:math.sqrt(6),\n",
    "    7:math.sqrt(7),\n",
    "    8:math.sqrt(8),\n",
    "    9:math.sqrt(9),\n",
    "    10:math.sqrt(10)\n",
    "}"
   ]
  },
  {
   "cell_type": "code",
   "execution_count": null,
   "metadata": {},
   "outputs": [],
   "source": [
    "i = int(input(\"Introduzca un número entre 1 y 10 para calcular su raíz cuadrada: \"))\n",
    "round(dict3[i],3)"
   ]
  },
  {
   "cell_type": "markdown",
   "metadata": {},
   "source": [
    "## Ejercicio 4\n",
    "Crea un diccionario que tenga como claves las letras del alfabeto castellano y como valores los símbolos del código morse (los tienes todos en la Wikipedia). A continuación crea un programa que lea una frase del teclado y te la convierta a Morse utilizando el diccionario anterior."
   ]
  },
  {
   "cell_type": "markdown",
   "metadata": {},
   "source": [
    "<img src=\"International_Morse_code.png\" width=\"300\">"
   ]
  },
  {
   "cell_type": "code",
   "execution_count": null,
   "metadata": {},
   "outputs": [],
   "source": [
    "dict4 = {\n",
    "    'A':'.-',\n",
    "    'B':'-...',\n",
    "    'C':'-.-.',\n",
    "    'D':'-..',\n",
    "    'E':'.',\n",
    "    'F':'..-.',\n",
    "    'G':'--.',\n",
    "    'H':'....',\n",
    "    'I':'..',\n",
    "    'J':'.---',\n",
    "    'K':'-.-',\n",
    "    'L':'.-..',\n",
    "    'M':'--',\n",
    "    'N':'-.',\n",
    "    'O':'---',\n",
    "    'P':'.--.',\n",
    "    'Q':'--.-',\n",
    "    'R':'.-.',\n",
    "    'S':'...',\n",
    "    'T':'-',\n",
    "    'U':'..-',\n",
    "    'V':'...-',\n",
    "    'W':'.--',\n",
    "    'X':'-..-',\n",
    "    'Y':'-.--',\n",
    "    'Z':'--..'  \n",
    "}"
   ]
  },
  {
   "cell_type": "code",
   "execution_count": null,
   "metadata": {},
   "outputs": [],
   "source": [
    "import unidecode"
   ]
  },
  {
   "cell_type": "code",
   "execution_count": null,
   "metadata": {},
   "outputs": [],
   "source": [
    "fr = input(\"Escribe una frase: \")\n",
    "frase = unidecode.unidecode(fr.upper()) # para convertir toda la frase anterior a mayusculas y sustituir letrás que tengan tildes por sí mismas\n",
    "\n",
    "frase_morse = \"\" # dejamos vacío la frase morse antes del bucle for\n",
    "\n",
    "for i in frase:\n",
    "    if i != \" \" and i in dict4:\n",
    "        frase_morse += dict4[i]\n",
    "    else:\n",
    "        frase_morse += '  '\n",
    "    \n",
    "print(\"La frase que has introducido en morse sería: {}\".format(frase_morse))"
   ]
  },
  {
   "cell_type": "markdown",
   "metadata": {},
   "source": [
    "## Ejercicio 5\n",
    "Crea una función que dados dos diccionarios nos diga que claves están presentes en ambos. "
   ]
  },
  {
   "cell_type": "code",
   "execution_count": null,
   "metadata": {},
   "outputs": [],
   "source": [
    "dict5_1 = {\n",
    "    'A':'.-',\n",
    "    'B':'-...',\n",
    "    'C':'-.-.',\n",
    "    'D':'-..',\n",
    "    'E':'.',\n",
    "    'F':'..-.',\n",
    "    'G':'--.',\n",
    "    'H':'....',\n",
    "    'I':'..',\n",
    "    'J':'.---',\n",
    "    'K':'-.-',\n",
    "    'L':'.-..',\n",
    "    'M':'--',\n",
    "    'N':'-.',\n",
    "    'O':'---',\n",
    "    'P':'.--.',\n",
    "    'Q':'--.-',\n",
    "    'R':'.-.',\n",
    "    'S':'...',\n",
    "    'T':'-',\n",
    "    'U':'..-',\n",
    "    'V':'...-',\n",
    "    'W':'.--',\n",
    "    'X':'-..-',\n",
    "    'Y':'-.--',\n",
    "    'Z':'--..'  \n",
    "}\n",
    "dict5_2 = {\n",
    "    '1':'uno',\n",
    "    '2':'dos',\n",
    "    '3':'tres',\n",
    "    '4':'cuatro',\n",
    "    '5':'cinco',\n",
    "    '6':'seis',\n",
    "    '7':'siete',\n",
    "    '8':'ocho',\n",
    "    '9':'nueve',\n",
    "    '10':'diez'\n",
    "}"
   ]
  },
  {
   "cell_type": "code",
   "execution_count": null,
   "metadata": {},
   "outputs": [],
   "source": [
    "def diccionarios(d1,d2):\n",
    "    \n",
    "    dict1 = \"\" # dejamos vacío las claves del primer diccionario antes del primer bucle for\n",
    "    dict2 = \"\" # dejamos vacío las claves del segundo diccionario antes del segundo bucle for\n",
    "\n",
    "    for i in dict5_1:\n",
    "        d1 += i+\" \"\n",
    "    print(\"Las claves del primer diccionario son: {}\".format(d1))\n",
    "\n",
    "    for i in dict5_2:\n",
    "        d2 += i+\" \"\n",
    "    print(\"Las claves del segundo diccionario son: {}\".format(d2))\n",
    "    \n",
    "diccionarios(dict1,dict2)"
   ]
  },
  {
   "cell_type": "markdown",
   "metadata": {},
   "source": [
    "## Ejercicio 6\n",
    "Crea una función que dado un número N nos diga si es primo o no (tiene que ir dividiendo por todos los números x comprendidos entre 2 y el propio número N menos uno y ver si el cociente de N/x tiene resto entero o no). "
   ]
  },
  {
   "cell_type": "code",
   "execution_count": null,
   "metadata": {},
   "outputs": [],
   "source": [
    "N = int(input(\"Introduce un número N: \"))\n",
    "ac = 0 # Inicializamos a 0 un contador para que se incremente en el caso de se cumpla la condición N%x==0\n",
    "\n",
    "for x in range(2,N):\n",
    "\n",
    "    if N%x==0:\n",
    "     \n",
    "        ac+=1\n",
    "\n",
    "if ac == 0:\n",
    "    print(\"El número ES primo\")\n",
    "    \n",
    "else:\n",
    "    print(\"El número NO ES primo\")"
   ]
  },
  {
   "cell_type": "markdown",
   "metadata": {},
   "source": [
    "## Ejercicio 7\n",
    "Investiga la documentación de la clase string y crea un método que lea una frase del teclado y escriba la primera letra de cada palabra en Mayúscula."
   ]
  },
  {
   "cell_type": "code",
   "execution_count": null,
   "metadata": {},
   "outputs": [],
   "source": [
    "frase = input(\"Escribe una frase: \\n\\n\")\n",
    "print(frase.title())"
   ]
  },
  {
   "cell_type": "markdown",
   "metadata": {},
   "source": [
    "## Ejercicio 8\n",
    "Crea una función que calcule el máximo común divisor de dos números introducidos por el usuario por teclado."
   ]
  },
  {
   "cell_type": "code",
   "execution_count": null,
   "metadata": {},
   "outputs": [],
   "source": [
    "a = int(input(\"Introduce el primer número: \"))\n",
    "b = int(input(\"Introduce el segundo número: \"))\n",
    "\n",
    "for i in range(1,a+1):\n",
    "    for j in range(1,b+1):\n",
    "        if a%i == 0 and b%i==0:\n",
    "            print(\"{} es el máximo común divisor\".format(i), end = '\\r')"
   ]
  },
  {
   "cell_type": "markdown",
   "metadata": {},
   "source": [
    "## Ejercicio 9\n",
    "Investiga el Cifrado del César y crea una función que lo reproduzca en Python. Cada letra del mensaje original se desplaza tres posiciones en el alfabeto estándar. La A se convierte en la D, la B se convierte en la E, la C se convierte en la F... y cuando se acaba el alfabeto se le vuelve a dar la vuelta: la X se convierte en la A, la Y en la B y la X en la C. Los números no sufren ninguna modificación. "
   ]
  },
  {
   "cell_type": "code",
   "execution_count": null,
   "metadata": {},
   "outputs": [],
   "source": [
    "def cifrado_cesar(frase, desplazamiento):\n",
    " \n",
    "  cifrado = ''\n",
    "    \n",
    "  for i in frase: \n",
    "    if i == ' ':\n",
    "      cifrado = cifrado + i\n",
    "    elif  i.isupper():\n",
    "      cifrado = cifrado + chr((ord(i) + desplazamiento - 65) % 26 + 65)\n",
    "    else:\n",
    "      cifrado = cifrado + chr((ord(i) + desplazamiento - 97) % 26 + 97)\n",
    "  \n",
    "  return cifrado\n",
    " \n",
    "frase = input(\"enter string: \")\n",
    "\n",
    "cifrado_cesar(frase, 3)"
   ]
  },
  {
   "cell_type": "markdown",
   "metadata": {},
   "source": [
    "## Ejercicio 10\n",
    "Dado una lista de nombres de persona, escribe un algoritmo que los ordene de tres formas diferentes:\n",
    "\n",
    "A. De forma alfabética\n",
    "\n",
    "B. De forma alfabética invertida\n",
    "\n",
    "C. De nombre más corto al más largo."
   ]
  },
  {
   "cell_type": "code",
   "execution_count": null,
   "metadata": {},
   "outputs": [],
   "source": [
    "lista = ['Jesus', 'Javi', 'Andrea', 'Enrique']"
   ]
  },
  {
   "cell_type": "code",
   "execution_count": null,
   "metadata": {},
   "outputs": [],
   "source": [
    "lista.sort()\n",
    "print(\"De forma alfabética:\")\n",
    "print(lista)\n",
    "lista.sort(reverse = True)\n",
    "print(\"\\nDe forma alfabética invertida:\")\n",
    "print(lista)\n",
    "lista.sort(key = len)\n",
    "print(\"\\nDe nombre más corto al más largo:\")\n",
    "print(lista)"
   ]
  }
 ],
 "metadata": {
  "kernelspec": {
   "display_name": "Python 3",
   "language": "python",
   "name": "python3"
  },
  "language_info": {
   "codemirror_mode": {
    "name": "ipython",
    "version": 3
   },
   "file_extension": ".py",
   "mimetype": "text/x-python",
   "name": "python",
   "nbconvert_exporter": "python",
   "pygments_lexer": "ipython3",
   "version": "3.7.0"
  }
 },
 "nbformat": 4,
 "nbformat_minor": 4
}
