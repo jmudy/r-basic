{
 "cells": [
  {
   "cell_type": "markdown",
   "metadata": {},
   "source": [
    "## Ejercicio 1"
   ]
  },
  {
   "cell_type": "code",
   "execution_count": 1,
   "metadata": {},
   "outputs": [],
   "source": [
    "def positivo(x):\n",
    "\n",
    "    if x >= 0:\n",
    "        print(\"El número {} es positivo\".format(x))\n",
    "    else:\n",
    "        print(\"El número {} es negativo\".format(x))"
   ]
  },
  {
   "cell_type": "code",
   "execution_count": 2,
   "metadata": {},
   "outputs": [
    {
     "name": "stdout",
     "output_type": "stream",
     "text": [
      "Escribe un número: 6\n",
      "El número 6 es positivo\n"
     ]
    }
   ],
   "source": [
    "a = int(input(\"Escribe un número: \"))\n",
    "positivo(a)"
   ]
  },
  {
   "cell_type": "markdown",
   "metadata": {},
   "source": [
    "## Ejercicio 2"
   ]
  },
  {
   "cell_type": "code",
   "execution_count": null,
   "metadata": {},
   "outputs": [],
   "source": [
    "def rango(x):\n",
    "    if x <= 5 and x >=- 5:\n",
    "        print(\"El número {} se encuentra dentro del rango [-5,5]\".format(x))\n",
    "    else:\n",
    "        print(\"El número {} NO se encuentra dentro del rango [-5,5]\".format(x))"
   ]
  },
  {
   "cell_type": "code",
   "execution_count": null,
   "metadata": {},
   "outputs": [],
   "source": [
    "a = int(input(\"Escribe un número: \"))\n",
    "rango(a)"
   ]
  },
  {
   "cell_type": "markdown",
   "metadata": {},
   "source": [
    "## Ejercicio 3"
   ]
  },
  {
   "cell_type": "code",
   "execution_count": null,
   "metadata": {},
   "outputs": [],
   "source": [
    "def cuadrante(x,y):\n",
    "\n",
    "    if x > 0 and y > 0:\n",
    "        print(\"El punto con coordenadas ({},{}) se encuentra en el primer cuadrante\".format(x,y))\n",
    "    elif x < 0 and y > 0:\n",
    "        print(\"El punto con coordenadas ({},{}) se encuentra en el segundo cuadrante\".format(x,y))\n",
    "    elif x < 0 and y < 0:\n",
    "        print(\"El punto con coordenadas ({},{}) se encuentra en el tercer cuadrante\".format(x,y))\n",
    "    elif x > 0 and y < 0:\n",
    "        print(\"El punto con coordenadas ({},{}) se encuentra en el cuarto cuadrante\".format(x,y))\n",
    "    elif x == 0 and y == 0:\n",
    "        print(\"El punto con coordenadas ({},{}) se encuentra en el origen de coordenadas\".format(x,y))"
   ]
  },
  {
   "cell_type": "code",
   "execution_count": null,
   "metadata": {},
   "outputs": [],
   "source": [
    "a = int(input(\"Escribe la coordenada x del punto: \"))\n",
    "b = int(input(\"Escribe la coordenada y del punto: \"))\n",
    "\n",
    "cuadrante(a,b)"
   ]
  },
  {
   "cell_type": "markdown",
   "metadata": {},
   "source": [
    "## Ejercicio 4"
   ]
  },
  {
   "cell_type": "code",
   "execution_count": null,
   "metadata": {},
   "outputs": [],
   "source": [
    "def divisor(x,y):\n",
    "\n",
    "    cociente = x//y\n",
    "    resto = x%y\n",
    "\n",
    "    print(\"\\nEl cociente de la división entera de los números {} y {} es: \".format(x,y) +str(cociente))\n",
    "    print(\"El resto es: \" +str(resto))"
   ]
  },
  {
   "cell_type": "code",
   "execution_count": null,
   "metadata": {},
   "outputs": [],
   "source": [
    "a = int(input(\"Escribe el primer número: \"))\n",
    "b = int(input(\"Escribe el segundo número: \"))\n",
    "\n",
    "divisor(a,b)"
   ]
  },
  {
   "cell_type": "markdown",
   "metadata": {},
   "source": [
    "## Ejercicio 5"
   ]
  },
  {
   "cell_type": "code",
   "execution_count": null,
   "metadata": {},
   "outputs": [],
   "source": [
    "import math"
   ]
  },
  {
   "cell_type": "code",
   "execution_count": null,
   "metadata": {},
   "outputs": [],
   "source": [
    "def perfecto(x):\n",
    "\n",
    "    cuadrado = math.sqrt(x)\n",
    "\n",
    "    if x%cuadrado == 0:\n",
    "        print(\"El número {} es cuadrado perfecto\".format(x))\n",
    "    else:\n",
    "        print(\"El número {} NO es cuadrado perfecto\".format(x))"
   ]
  },
  {
   "cell_type": "code",
   "execution_count": null,
   "metadata": {},
   "outputs": [],
   "source": [
    "a = int(input(\"Escribe el número entero: \"))\n",
    "perfecto(a)"
   ]
  },
  {
   "cell_type": "markdown",
   "metadata": {},
   "source": [
    "## Ejercicio 6"
   ]
  },
  {
   "cell_type": "code",
   "execution_count": null,
   "metadata": {},
   "outputs": [],
   "source": [
    "def año(x):\n",
    "    if x % 4 == 0 and (x % 100 != 0 or x % 400 == 0):\n",
    "        print(\"El año {} bisiesto\".format(x))\n",
    "    else:\n",
    "        print(\"El año {} NO es bisiesto\".format(x))"
   ]
  },
  {
   "cell_type": "code",
   "execution_count": null,
   "metadata": {},
   "outputs": [],
   "source": [
    "a = int(input(\"Escribe el número entero positivo: \"))\n",
    "año (a)"
   ]
  },
  {
   "cell_type": "markdown",
   "metadata": {},
   "source": [
    "## Ejercicio 7"
   ]
  },
  {
   "cell_type": "code",
   "execution_count": 89,
   "metadata": {},
   "outputs": [],
   "source": [
    "def tablero(letra,numero):\n",
    "    if letra==\"a\" or letra==\"c\" or letra==\"e\" or letra==\"g\":\n",
    "        if numero % 2 == 0:\n",
    "            print(\"la casilla es blanca\")\n",
    "        else:\n",
    "            print(\"la casilla es negra\")\n",
    "    else:\n",
    "        if numero % 2 == 0:\n",
    "            print(\"La casilla es negra\")\n",
    "        else:\n",
    "            print(\"La casilla es blanca\")"
   ]
  },
  {
   "cell_type": "code",
   "execution_count": 90,
   "metadata": {},
   "outputs": [
    {
     "name": "stdout",
     "output_type": "stream",
     "text": [
      "Escribe una letra: f\n",
      "Escribe el número: 8\n",
      "La casilla es negra\n"
     ]
    }
   ],
   "source": [
    "a = input(\"Escribe una letra: \")\n",
    "b = int(input(\"Escribe el número: \"))\n",
    "\n",
    "tablero(a,b)"
   ]
  },
  {
   "cell_type": "code",
   "execution_count": null,
   "metadata": {},
   "outputs": [],
   "source": []
  }
 ],
 "metadata": {
  "kernelspec": {
   "display_name": "Python 3",
   "language": "python",
   "name": "python3"
  },
  "language_info": {
   "codemirror_mode": {
    "name": "ipython",
    "version": 3
   },
   "file_extension": ".py",
   "mimetype": "text/x-python",
   "name": "python",
   "nbconvert_exporter": "python",
   "pygments_lexer": "ipython3",
   "version": "3.7.0"
  }
 },
 "nbformat": 4,
 "nbformat_minor": 4
}
